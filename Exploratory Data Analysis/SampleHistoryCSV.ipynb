{
  "nbformat": 4,
  "nbformat_minor": 0,
  "metadata": {
    "colab": {
      "provenance": []
    },
    "kernelspec": {
      "name": "python3",
      "display_name": "Python 3"
    },
    "language_info": {
      "name": "python"
    }
  },
  "cells": [
    {
      "cell_type": "code",
      "execution_count": 50,
      "metadata": {
        "id": "-TjjhjBhLZPy"
      },
      "outputs": [],
      "source": [
        "import numpy as np\n",
        "import pandas as pd"
      ]
    },
    {
      "cell_type": "code",
      "source": [
        "data = pd.read_csv(\"/content/California_Fire_Incidents.csv\")"
      ],
      "metadata": {
        "id": "Ao3rMyRWMCRk"
      },
      "execution_count": 51,
      "outputs": []
    },
    {
      "cell_type": "code",
      "source": [
        "data.head()"
      ],
      "metadata": {
        "colab": {
          "base_uri": "https://localhost:8080/",
          "height": 533
        },
        "id": "4WF8Jts_MHMN",
        "outputId": "41712d9b-7251-496c-a1fb-7bdd85247fa1"
      },
      "execution_count": 52,
      "outputs": [
        {
          "output_type": "execute_result",
          "data": {
            "text/plain": [
              "   AcresBurned  Active                                          AdminUnit  \\\n",
              "0     257314.0   False  Stanislaus National Forest/Yosemite National Park   \n",
              "1      30274.0   False  USFS Angeles National Forest/Los Angeles Count...   \n",
              "2      27531.0   False  CAL FIRE Riverside Unit / San Bernardino Natio...   \n",
              "3      27440.0   False                              Tahoe National Forest   \n",
              "4      24251.0   False                       Ventura County Fire/CAL FIRE   \n",
              "\n",
              "   AirTankers  ArchiveYear  CalFireIncident  \\\n",
              "0         NaN         2013             True   \n",
              "1         NaN         2013             True   \n",
              "2         NaN         2013             True   \n",
              "3         NaN         2013            False   \n",
              "4         NaN         2013             True   \n",
              "\n",
              "                            CanonicalUrl  \\\n",
              "0         /incidents/2013/8/17/rim-fire/   \n",
              "1  /incidents/2013/5/30/powerhouse-fire/   \n",
              "2    /incidents/2013/7/15/mountain-fire/   \n",
              "3    /incidents/2013/8/10/american-fire/   \n",
              "4      /incidents/2013/5/2/springs-fire/   \n",
              "\n",
              "                                  ConditionStatement ControlStatement  \\\n",
              "0                                                NaN              NaN   \n",
              "1                                                NaN              NaN   \n",
              "2                                                NaN              NaN   \n",
              "3                                                NaN              NaN   \n",
              "4  Acreage has been reduced based upon more accur...              NaN   \n",
              "\n",
              "      Counties  ...                                     SearchKeywords  \\\n",
              "0     Tuolumne  ...  Rim Fire, Stanislaus National Forest, Yosemite...   \n",
              "1  Los Angeles  ...  Powerhouse Fire, May 2013, June 2013, Angeles ...   \n",
              "2    Riverside  ...  Mountain Fire, July 2013, Highway 243, Highway...   \n",
              "3       Placer  ...  American Fire, August 2013, Deadwood Ridge, Fo...   \n",
              "4      Ventura  ...  Springs Fire, May 2013, Highway 101, Camarillo...   \n",
              "\n",
              "                Started     Status  StructuresDamaged StructuresDestroyed  \\\n",
              "0  2013-08-17T15:25:00Z  Finalized                NaN                 NaN   \n",
              "1  2013-05-30T15:28:00Z  Finalized                NaN                 NaN   \n",
              "2  2013-07-15T13:43:00Z  Finalized                NaN                 NaN   \n",
              "3  2013-08-10T16:30:00Z  Finalized                NaN                 NaN   \n",
              "4  2013-05-02T07:01:00Z  Finalized                6.0                10.0   \n",
              "\n",
              "   StructuresEvacuated  StructuresThreatened  \\\n",
              "0                  NaN                   NaN   \n",
              "1                  NaN                   NaN   \n",
              "2                  NaN                   NaN   \n",
              "3                  NaN                   NaN   \n",
              "4                  NaN                   NaN   \n",
              "\n",
              "                               UniqueId               Updated  WaterTenders  \n",
              "0  5fb18d4d-213f-4d83-a179-daaf11939e78  2013-09-06T18:30:00Z           NaN  \n",
              "1  bf37805e-1cc2-4208-9972-753e47874c87  2013-06-08T18:30:00Z           NaN  \n",
              "2  a3149fec-4d48-427c-8b2c-59e8b79d59db  2013-07-30T18:00:00Z           NaN  \n",
              "3  8213f5c7-34fa-403b-a4bc-da2ace6e6625  2013-08-30T08:00:00Z           NaN  \n",
              "4  46731fb8-3350-4920-bdf7-910ac0eb715c  2013-05-11T06:30:00Z          11.0  \n",
              "\n",
              "[5 rows x 40 columns]"
            ],
            "text/html": [
              "\n",
              "  <div id=\"df-9f7d2ab7-1913-4bb7-a920-b6ab8cef20ce\" class=\"colab-df-container\">\n",
              "    <div>\n",
              "<style scoped>\n",
              "    .dataframe tbody tr th:only-of-type {\n",
              "        vertical-align: middle;\n",
              "    }\n",
              "\n",
              "    .dataframe tbody tr th {\n",
              "        vertical-align: top;\n",
              "    }\n",
              "\n",
              "    .dataframe thead th {\n",
              "        text-align: right;\n",
              "    }\n",
              "</style>\n",
              "<table border=\"1\" class=\"dataframe\">\n",
              "  <thead>\n",
              "    <tr style=\"text-align: right;\">\n",
              "      <th></th>\n",
              "      <th>AcresBurned</th>\n",
              "      <th>Active</th>\n",
              "      <th>AdminUnit</th>\n",
              "      <th>AirTankers</th>\n",
              "      <th>ArchiveYear</th>\n",
              "      <th>CalFireIncident</th>\n",
              "      <th>CanonicalUrl</th>\n",
              "      <th>ConditionStatement</th>\n",
              "      <th>ControlStatement</th>\n",
              "      <th>Counties</th>\n",
              "      <th>...</th>\n",
              "      <th>SearchKeywords</th>\n",
              "      <th>Started</th>\n",
              "      <th>Status</th>\n",
              "      <th>StructuresDamaged</th>\n",
              "      <th>StructuresDestroyed</th>\n",
              "      <th>StructuresEvacuated</th>\n",
              "      <th>StructuresThreatened</th>\n",
              "      <th>UniqueId</th>\n",
              "      <th>Updated</th>\n",
              "      <th>WaterTenders</th>\n",
              "    </tr>\n",
              "  </thead>\n",
              "  <tbody>\n",
              "    <tr>\n",
              "      <th>0</th>\n",
              "      <td>257314.0</td>\n",
              "      <td>False</td>\n",
              "      <td>Stanislaus National Forest/Yosemite National Park</td>\n",
              "      <td>NaN</td>\n",
              "      <td>2013</td>\n",
              "      <td>True</td>\n",
              "      <td>/incidents/2013/8/17/rim-fire/</td>\n",
              "      <td>NaN</td>\n",
              "      <td>NaN</td>\n",
              "      <td>Tuolumne</td>\n",
              "      <td>...</td>\n",
              "      <td>Rim Fire, Stanislaus National Forest, Yosemite...</td>\n",
              "      <td>2013-08-17T15:25:00Z</td>\n",
              "      <td>Finalized</td>\n",
              "      <td>NaN</td>\n",
              "      <td>NaN</td>\n",
              "      <td>NaN</td>\n",
              "      <td>NaN</td>\n",
              "      <td>5fb18d4d-213f-4d83-a179-daaf11939e78</td>\n",
              "      <td>2013-09-06T18:30:00Z</td>\n",
              "      <td>NaN</td>\n",
              "    </tr>\n",
              "    <tr>\n",
              "      <th>1</th>\n",
              "      <td>30274.0</td>\n",
              "      <td>False</td>\n",
              "      <td>USFS Angeles National Forest/Los Angeles Count...</td>\n",
              "      <td>NaN</td>\n",
              "      <td>2013</td>\n",
              "      <td>True</td>\n",
              "      <td>/incidents/2013/5/30/powerhouse-fire/</td>\n",
              "      <td>NaN</td>\n",
              "      <td>NaN</td>\n",
              "      <td>Los Angeles</td>\n",
              "      <td>...</td>\n",
              "      <td>Powerhouse Fire, May 2013, June 2013, Angeles ...</td>\n",
              "      <td>2013-05-30T15:28:00Z</td>\n",
              "      <td>Finalized</td>\n",
              "      <td>NaN</td>\n",
              "      <td>NaN</td>\n",
              "      <td>NaN</td>\n",
              "      <td>NaN</td>\n",
              "      <td>bf37805e-1cc2-4208-9972-753e47874c87</td>\n",
              "      <td>2013-06-08T18:30:00Z</td>\n",
              "      <td>NaN</td>\n",
              "    </tr>\n",
              "    <tr>\n",
              "      <th>2</th>\n",
              "      <td>27531.0</td>\n",
              "      <td>False</td>\n",
              "      <td>CAL FIRE Riverside Unit / San Bernardino Natio...</td>\n",
              "      <td>NaN</td>\n",
              "      <td>2013</td>\n",
              "      <td>True</td>\n",
              "      <td>/incidents/2013/7/15/mountain-fire/</td>\n",
              "      <td>NaN</td>\n",
              "      <td>NaN</td>\n",
              "      <td>Riverside</td>\n",
              "      <td>...</td>\n",
              "      <td>Mountain Fire, July 2013, Highway 243, Highway...</td>\n",
              "      <td>2013-07-15T13:43:00Z</td>\n",
              "      <td>Finalized</td>\n",
              "      <td>NaN</td>\n",
              "      <td>NaN</td>\n",
              "      <td>NaN</td>\n",
              "      <td>NaN</td>\n",
              "      <td>a3149fec-4d48-427c-8b2c-59e8b79d59db</td>\n",
              "      <td>2013-07-30T18:00:00Z</td>\n",
              "      <td>NaN</td>\n",
              "    </tr>\n",
              "    <tr>\n",
              "      <th>3</th>\n",
              "      <td>27440.0</td>\n",
              "      <td>False</td>\n",
              "      <td>Tahoe National Forest</td>\n",
              "      <td>NaN</td>\n",
              "      <td>2013</td>\n",
              "      <td>False</td>\n",
              "      <td>/incidents/2013/8/10/american-fire/</td>\n",
              "      <td>NaN</td>\n",
              "      <td>NaN</td>\n",
              "      <td>Placer</td>\n",
              "      <td>...</td>\n",
              "      <td>American Fire, August 2013, Deadwood Ridge, Fo...</td>\n",
              "      <td>2013-08-10T16:30:00Z</td>\n",
              "      <td>Finalized</td>\n",
              "      <td>NaN</td>\n",
              "      <td>NaN</td>\n",
              "      <td>NaN</td>\n",
              "      <td>NaN</td>\n",
              "      <td>8213f5c7-34fa-403b-a4bc-da2ace6e6625</td>\n",
              "      <td>2013-08-30T08:00:00Z</td>\n",
              "      <td>NaN</td>\n",
              "    </tr>\n",
              "    <tr>\n",
              "      <th>4</th>\n",
              "      <td>24251.0</td>\n",
              "      <td>False</td>\n",
              "      <td>Ventura County Fire/CAL FIRE</td>\n",
              "      <td>NaN</td>\n",
              "      <td>2013</td>\n",
              "      <td>True</td>\n",
              "      <td>/incidents/2013/5/2/springs-fire/</td>\n",
              "      <td>Acreage has been reduced based upon more accur...</td>\n",
              "      <td>NaN</td>\n",
              "      <td>Ventura</td>\n",
              "      <td>...</td>\n",
              "      <td>Springs Fire, May 2013, Highway 101, Camarillo...</td>\n",
              "      <td>2013-05-02T07:01:00Z</td>\n",
              "      <td>Finalized</td>\n",
              "      <td>6.0</td>\n",
              "      <td>10.0</td>\n",
              "      <td>NaN</td>\n",
              "      <td>NaN</td>\n",
              "      <td>46731fb8-3350-4920-bdf7-910ac0eb715c</td>\n",
              "      <td>2013-05-11T06:30:00Z</td>\n",
              "      <td>11.0</td>\n",
              "    </tr>\n",
              "  </tbody>\n",
              "</table>\n",
              "<p>5 rows × 40 columns</p>\n",
              "</div>\n",
              "    <div class=\"colab-df-buttons\">\n",
              "\n",
              "  <div class=\"colab-df-container\">\n",
              "    <button class=\"colab-df-convert\" onclick=\"convertToInteractive('df-9f7d2ab7-1913-4bb7-a920-b6ab8cef20ce')\"\n",
              "            title=\"Convert this dataframe to an interactive table.\"\n",
              "            style=\"display:none;\">\n",
              "\n",
              "  <svg xmlns=\"http://www.w3.org/2000/svg\" height=\"24px\" viewBox=\"0 -960 960 960\">\n",
              "    <path d=\"M120-120v-720h720v720H120Zm60-500h600v-160H180v160Zm220 220h160v-160H400v160Zm0 220h160v-160H400v160ZM180-400h160v-160H180v160Zm440 0h160v-160H620v160ZM180-180h160v-160H180v160Zm440 0h160v-160H620v160Z\"/>\n",
              "  </svg>\n",
              "    </button>\n",
              "\n",
              "  <style>\n",
              "    .colab-df-container {\n",
              "      display:flex;\n",
              "      gap: 12px;\n",
              "    }\n",
              "\n",
              "    .colab-df-convert {\n",
              "      background-color: #E8F0FE;\n",
              "      border: none;\n",
              "      border-radius: 50%;\n",
              "      cursor: pointer;\n",
              "      display: none;\n",
              "      fill: #1967D2;\n",
              "      height: 32px;\n",
              "      padding: 0 0 0 0;\n",
              "      width: 32px;\n",
              "    }\n",
              "\n",
              "    .colab-df-convert:hover {\n",
              "      background-color: #E2EBFA;\n",
              "      box-shadow: 0px 1px 2px rgba(60, 64, 67, 0.3), 0px 1px 3px 1px rgba(60, 64, 67, 0.15);\n",
              "      fill: #174EA6;\n",
              "    }\n",
              "\n",
              "    .colab-df-buttons div {\n",
              "      margin-bottom: 4px;\n",
              "    }\n",
              "\n",
              "    [theme=dark] .colab-df-convert {\n",
              "      background-color: #3B4455;\n",
              "      fill: #D2E3FC;\n",
              "    }\n",
              "\n",
              "    [theme=dark] .colab-df-convert:hover {\n",
              "      background-color: #434B5C;\n",
              "      box-shadow: 0px 1px 3px 1px rgba(0, 0, 0, 0.15);\n",
              "      filter: drop-shadow(0px 1px 2px rgba(0, 0, 0, 0.3));\n",
              "      fill: #FFFFFF;\n",
              "    }\n",
              "  </style>\n",
              "\n",
              "    <script>\n",
              "      const buttonEl =\n",
              "        document.querySelector('#df-9f7d2ab7-1913-4bb7-a920-b6ab8cef20ce button.colab-df-convert');\n",
              "      buttonEl.style.display =\n",
              "        google.colab.kernel.accessAllowed ? 'block' : 'none';\n",
              "\n",
              "      async function convertToInteractive(key) {\n",
              "        const element = document.querySelector('#df-9f7d2ab7-1913-4bb7-a920-b6ab8cef20ce');\n",
              "        const dataTable =\n",
              "          await google.colab.kernel.invokeFunction('convertToInteractive',\n",
              "                                                    [key], {});\n",
              "        if (!dataTable) return;\n",
              "\n",
              "        const docLinkHtml = 'Like what you see? Visit the ' +\n",
              "          '<a target=\"_blank\" href=https://colab.research.google.com/notebooks/data_table.ipynb>data table notebook</a>'\n",
              "          + ' to learn more about interactive tables.';\n",
              "        element.innerHTML = '';\n",
              "        dataTable['output_type'] = 'display_data';\n",
              "        await google.colab.output.renderOutput(dataTable, element);\n",
              "        const docLink = document.createElement('div');\n",
              "        docLink.innerHTML = docLinkHtml;\n",
              "        element.appendChild(docLink);\n",
              "      }\n",
              "    </script>\n",
              "  </div>\n",
              "\n",
              "\n",
              "    <div id=\"df-d26c7a2b-e9e8-4a18-8033-72d70d5b3c40\">\n",
              "      <button class=\"colab-df-quickchart\" onclick=\"quickchart('df-d26c7a2b-e9e8-4a18-8033-72d70d5b3c40')\"\n",
              "                title=\"Suggest charts\"\n",
              "                style=\"display:none;\">\n",
              "\n",
              "<svg xmlns=\"http://www.w3.org/2000/svg\" height=\"24px\"viewBox=\"0 0 24 24\"\n",
              "     width=\"24px\">\n",
              "    <g>\n",
              "        <path d=\"M19 3H5c-1.1 0-2 .9-2 2v14c0 1.1.9 2 2 2h14c1.1 0 2-.9 2-2V5c0-1.1-.9-2-2-2zM9 17H7v-7h2v7zm4 0h-2V7h2v10zm4 0h-2v-4h2v4z\"/>\n",
              "    </g>\n",
              "</svg>\n",
              "      </button>\n",
              "\n",
              "<style>\n",
              "  .colab-df-quickchart {\n",
              "      --bg-color: #E8F0FE;\n",
              "      --fill-color: #1967D2;\n",
              "      --hover-bg-color: #E2EBFA;\n",
              "      --hover-fill-color: #174EA6;\n",
              "      --disabled-fill-color: #AAA;\n",
              "      --disabled-bg-color: #DDD;\n",
              "  }\n",
              "\n",
              "  [theme=dark] .colab-df-quickchart {\n",
              "      --bg-color: #3B4455;\n",
              "      --fill-color: #D2E3FC;\n",
              "      --hover-bg-color: #434B5C;\n",
              "      --hover-fill-color: #FFFFFF;\n",
              "      --disabled-bg-color: #3B4455;\n",
              "      --disabled-fill-color: #666;\n",
              "  }\n",
              "\n",
              "  .colab-df-quickchart {\n",
              "    background-color: var(--bg-color);\n",
              "    border: none;\n",
              "    border-radius: 50%;\n",
              "    cursor: pointer;\n",
              "    display: none;\n",
              "    fill: var(--fill-color);\n",
              "    height: 32px;\n",
              "    padding: 0;\n",
              "    width: 32px;\n",
              "  }\n",
              "\n",
              "  .colab-df-quickchart:hover {\n",
              "    background-color: var(--hover-bg-color);\n",
              "    box-shadow: 0 1px 2px rgba(60, 64, 67, 0.3), 0 1px 3px 1px rgba(60, 64, 67, 0.15);\n",
              "    fill: var(--button-hover-fill-color);\n",
              "  }\n",
              "\n",
              "  .colab-df-quickchart-complete:disabled,\n",
              "  .colab-df-quickchart-complete:disabled:hover {\n",
              "    background-color: var(--disabled-bg-color);\n",
              "    fill: var(--disabled-fill-color);\n",
              "    box-shadow: none;\n",
              "  }\n",
              "\n",
              "  .colab-df-spinner {\n",
              "    border: 2px solid var(--fill-color);\n",
              "    border-color: transparent;\n",
              "    border-bottom-color: var(--fill-color);\n",
              "    animation:\n",
              "      spin 1s steps(1) infinite;\n",
              "  }\n",
              "\n",
              "  @keyframes spin {\n",
              "    0% {\n",
              "      border-color: transparent;\n",
              "      border-bottom-color: var(--fill-color);\n",
              "      border-left-color: var(--fill-color);\n",
              "    }\n",
              "    20% {\n",
              "      border-color: transparent;\n",
              "      border-left-color: var(--fill-color);\n",
              "      border-top-color: var(--fill-color);\n",
              "    }\n",
              "    30% {\n",
              "      border-color: transparent;\n",
              "      border-left-color: var(--fill-color);\n",
              "      border-top-color: var(--fill-color);\n",
              "      border-right-color: var(--fill-color);\n",
              "    }\n",
              "    40% {\n",
              "      border-color: transparent;\n",
              "      border-right-color: var(--fill-color);\n",
              "      border-top-color: var(--fill-color);\n",
              "    }\n",
              "    60% {\n",
              "      border-color: transparent;\n",
              "      border-right-color: var(--fill-color);\n",
              "    }\n",
              "    80% {\n",
              "      border-color: transparent;\n",
              "      border-right-color: var(--fill-color);\n",
              "      border-bottom-color: var(--fill-color);\n",
              "    }\n",
              "    90% {\n",
              "      border-color: transparent;\n",
              "      border-bottom-color: var(--fill-color);\n",
              "    }\n",
              "  }\n",
              "</style>\n",
              "\n",
              "      <script>\n",
              "        async function quickchart(key) {\n",
              "          const quickchartButtonEl =\n",
              "            document.querySelector('#' + key + ' button');\n",
              "          quickchartButtonEl.disabled = true;  // To prevent multiple clicks.\n",
              "          quickchartButtonEl.classList.add('colab-df-spinner');\n",
              "          try {\n",
              "            const charts = await google.colab.kernel.invokeFunction(\n",
              "                'suggestCharts', [key], {});\n",
              "          } catch (error) {\n",
              "            console.error('Error during call to suggestCharts:', error);\n",
              "          }\n",
              "          quickchartButtonEl.classList.remove('colab-df-spinner');\n",
              "          quickchartButtonEl.classList.add('colab-df-quickchart-complete');\n",
              "        }\n",
              "        (() => {\n",
              "          let quickchartButtonEl =\n",
              "            document.querySelector('#df-d26c7a2b-e9e8-4a18-8033-72d70d5b3c40 button');\n",
              "          quickchartButtonEl.style.display =\n",
              "            google.colab.kernel.accessAllowed ? 'block' : 'none';\n",
              "        })();\n",
              "      </script>\n",
              "    </div>\n",
              "\n",
              "    </div>\n",
              "  </div>\n"
            ],
            "application/vnd.google.colaboratory.intrinsic+json": {
              "type": "dataframe",
              "variable_name": "data"
            }
          },
          "metadata": {},
          "execution_count": 52
        }
      ]
    },
    {
      "cell_type": "code",
      "source": [
        "data.columns"
      ],
      "metadata": {
        "colab": {
          "base_uri": "https://localhost:8080/"
        },
        "id": "xRM4-3CqMRc3",
        "outputId": "0d64a1f9-e526-4ebe-8c89-0cfd0c478409"
      },
      "execution_count": 53,
      "outputs": [
        {
          "output_type": "execute_result",
          "data": {
            "text/plain": [
              "Index(['AcresBurned', 'Active', 'AdminUnit', 'AirTankers', 'ArchiveYear',\n",
              "       'CalFireIncident', 'CanonicalUrl', 'ConditionStatement',\n",
              "       'ControlStatement', 'Counties', 'CountyIds', 'CrewsInvolved', 'Dozers',\n",
              "       'Engines', 'Extinguished', 'Fatalities', 'Featured', 'Final',\n",
              "       'FuelType', 'Helicopters', 'Injuries', 'Latitude', 'Location',\n",
              "       'Longitude', 'MajorIncident', 'Name', 'PercentContained',\n",
              "       'PersonnelInvolved', 'Public', 'SearchDescription', 'SearchKeywords',\n",
              "       'Started', 'Status', 'StructuresDamaged', 'StructuresDestroyed',\n",
              "       'StructuresEvacuated', 'StructuresThreatened', 'UniqueId', 'Updated',\n",
              "       'WaterTenders'],\n",
              "      dtype='object')"
            ]
          },
          "metadata": {},
          "execution_count": 53
        }
      ]
    },
    {
      "cell_type": "code",
      "source": [
        "interested = ['Started','Counties','AcresBurned','Injuries','Fatalities','StructuresDestroyed','StructuresDamaged',]"
      ],
      "metadata": {
        "id": "WwTRrxqRMS-z"
      },
      "execution_count": 54,
      "outputs": []
    },
    {
      "cell_type": "code",
      "source": [
        "sample = data[interested][0:20].copy()"
      ],
      "metadata": {
        "id": "7iy2p7SfMG8q"
      },
      "execution_count": 55,
      "outputs": []
    },
    {
      "cell_type": "code",
      "source": [
        "tmp = []\n",
        "for i in sample[\"Started\"]:\n",
        "  date = i.split('-')\n",
        "  tmp.append(date[0] + date[1])\n",
        "sample[\"Started\"] = tmp"
      ],
      "metadata": {
        "id": "igul0TPvM1qU"
      },
      "execution_count": 56,
      "outputs": []
    },
    {
      "cell_type": "code",
      "source": [
        "sample = sample.rename(columns={'Counties': 'County'})"
      ],
      "metadata": {
        "id": "dLG_cP0JNi-Z"
      },
      "execution_count": 57,
      "outputs": []
    },
    {
      "cell_type": "code",
      "source": [
        "county = []\n",
        "for i in sample[\"County\"]:\n",
        "  name = i.split(\" \")\n",
        "  tmp = \"\".join([i.lower() for i in name])\n",
        "  county.append(tmp.capitalize())\n",
        "sample[\"County\"] = county"
      ],
      "metadata": {
        "id": "t8bXeX9NNTkA"
      },
      "execution_count": 58,
      "outputs": []
    },
    {
      "cell_type": "code",
      "source": [
        "sample = sample.fillna(0)"
      ],
      "metadata": {
        "id": "IVCmF8GFONyK"
      },
      "execution_count": 59,
      "outputs": []
    },
    {
      "cell_type": "code",
      "source": [],
      "metadata": {
        "id": "Jiy3IyMYOgHv"
      },
      "execution_count": 59,
      "outputs": []
    },
    {
      "cell_type": "code",
      "source": [
        "financial = []\n",
        "for i in range(len(sample)):\n",
        "  financial.append(sample.iloc[i]['StructuresDestroyed'] * 5000 + sample.iloc[i]['StructuresDamaged'] * 1000)\n",
        "sample['PropetyValue Damage'] = financial"
      ],
      "metadata": {
        "id": "GUUIfBU7Og8U"
      },
      "execution_count": 60,
      "outputs": []
    },
    {
      "cell_type": "code",
      "source": [
        "import random\n",
        "Precipitation = []\n",
        "for i in range(len(sample)):\n",
        "    Precipitation.append(round(random.uniform(0.26, 1),2))\n",
        "sample['Precipitation'] = Precipitation"
      ],
      "metadata": {
        "id": "lZReFJmMPr3x"
      },
      "execution_count": 61,
      "outputs": []
    },
    {
      "cell_type": "code",
      "source": [
        "cool = []\n",
        "for i in range(len(sample)):\n",
        "    cool.append(random.randint(10, 289))\n",
        "sample['Cooling Degree Days'] = cool"
      ],
      "metadata": {
        "id": "iZUw8owyQ7km"
      },
      "execution_count": 62,
      "outputs": []
    },
    {
      "cell_type": "code",
      "source": [
        "hot = []\n",
        "for i in range(len(sample)):\n",
        "    hot.append(random.randint(10, 500))\n",
        "sample['Heating Degree Days'] = hot"
      ],
      "metadata": {
        "id": "MaNfCbFrRbZF"
      },
      "execution_count": 63,
      "outputs": []
    },
    {
      "cell_type": "code",
      "source": [
        "drought = []\n",
        "for i in range(len(sample)):\n",
        "    drought.append(round(random.uniform(-5.6, 1),2))\n",
        "sample['Drought Index'] = drought"
      ],
      "metadata": {
        "id": "2fAHtVwDRoOE"
      },
      "execution_count": 64,
      "outputs": []
    },
    {
      "cell_type": "code",
      "source": [
        "Temperature = []\n",
        "for i in range(len(sample)):\n",
        "    Temperature.append(random.randint(52, 78))\n",
        "sample['Temperature'] = Temperature"
      ],
      "metadata": {
        "id": "OPheig2iSXHK"
      },
      "execution_count": 65,
      "outputs": []
    },
    {
      "cell_type": "code",
      "source": [
        "sample = sample.rename(columns={'\tStarted': 'Date'})"
      ],
      "metadata": {
        "id": "eMatY9tSSoh8"
      },
      "execution_count": 66,
      "outputs": []
    },
    {
      "cell_type": "code",
      "source": [
        "check = set()\n",
        "for i in range(len(sample[0:10])):\n",
        "  check.add(sample.iloc[i]['Started'] + sample.iloc[i]['County'])"
      ],
      "metadata": {
        "id": "OWsQDP34S1yN"
      },
      "execution_count": 67,
      "outputs": []
    },
    {
      "cell_type": "code",
      "source": [
        "len(check)"
      ],
      "metadata": {
        "colab": {
          "base_uri": "https://localhost:8080/"
        },
        "id": "uiGoGoyTTOQ3",
        "outputId": "9a2f7dd7-38a7-4121-d102-44b1e557a2d0"
      },
      "execution_count": 68,
      "outputs": [
        {
          "output_type": "execute_result",
          "data": {
            "text/plain": [
              "10"
            ]
          },
          "metadata": {},
          "execution_count": 68
        }
      ]
    },
    {
      "cell_type": "code",
      "source": [
        "final = sample[0:10]"
      ],
      "metadata": {
        "id": "Sd5C2nMeTX6a"
      },
      "execution_count": 69,
      "outputs": []
    },
    {
      "cell_type": "code",
      "source": [
        "final.to_csv('SampleHistory.csv', index=False)"
      ],
      "metadata": {
        "id": "khzVOaSmTfRY"
      },
      "execution_count": 70,
      "outputs": []
    }
  ]
}