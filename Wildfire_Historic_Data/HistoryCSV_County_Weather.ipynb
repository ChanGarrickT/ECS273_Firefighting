{
  "nbformat": 4,
  "nbformat_minor": 0,
  "metadata": {
    "colab": {
      "provenance": []
    },
    "kernelspec": {
      "name": "python3",
      "display_name": "Python 3"
    },
    "language_info": {
      "name": "python"
    }
  },
  "cells": [
    {
      "cell_type": "code",
      "execution_count": 1,
      "metadata": {
        "id": "zMEYFEUnkIFf"
      },
      "outputs": [],
      "source": [
        "import numpy as np\n",
        "import pandas as pd"
      ]
    },
    {
      "cell_type": "code",
      "source": [
        "incident = pd.read_csv(\"/content/California_Fire_Incidents.csv\")"
      ],
      "metadata": {
        "id": "WJO3AAWkkbzu"
      },
      "execution_count": 2,
      "outputs": []
    },
    {
      "cell_type": "code",
      "source": [
        "interested = ['Started','Counties','AcresBurned','Injuries','Fatalities','StructuresDestroyed','StructuresDamaged',]"
      ],
      "metadata": {
        "id": "qIKx5lLlkfK3"
      },
      "execution_count": 3,
      "outputs": []
    },
    {
      "cell_type": "code",
      "source": [
        "incident_data = incident[interested].copy()"
      ],
      "metadata": {
        "id": "99lHKfwIkhN_"
      },
      "execution_count": 4,
      "outputs": []
    },
    {
      "cell_type": "code",
      "source": [
        "county = ['Tuolumne', 'Los Angeles', 'Riverside', 'Placer', 'Ventura',\n",
        "       'Fresno', 'Siskiyou', 'Humboldt', 'Tehama', 'Shasta', 'San Diego',\n",
        "       'Kern', 'Sonoma', 'Contra Costa', 'Butte', 'Tulare',\n",
        "       'Santa Barbara', 'Mariposa', 'Monterey', 'El Dorado',\n",
        "       'San Bernardino', 'Plumas', 'Modoc', 'San Luis Obispo', 'Madera',\n",
        "       'Inyo', 'Napa', 'San Benito', 'San Joaquin', 'Lake', 'Alameda',\n",
        "       'Glenn', 'Yolo', 'Sacramento', 'Stanislaus', 'Solano', 'Merced',\n",
        "       'Mendocino', 'Lassen', 'Amador', 'Yuba', 'Nevada', 'Santa Clara',\n",
        "       'Calaveras', 'San Mateo', 'Orange', 'Colusa', 'Trinity',\n",
        "       'Del Norte', 'Mono', 'Alpine', 'Sutter', 'Kings', 'Sierra',\n",
        "       'Santa Cruz', 'Marin']"
      ],
      "metadata": {
        "id": "tcQ-CnP1k0gE"
      },
      "execution_count": 5,
      "outputs": []
    },
    {
      "cell_type": "code",
      "source": [
        "incident_data = incident_data[incident_data['Counties'].isin(county )].copy()"
      ],
      "metadata": {
        "id": "I5MoJaYSkmdW"
      },
      "execution_count": 6,
      "outputs": []
    },
    {
      "cell_type": "code",
      "source": [
        "tmp = []\n",
        "for i in incident_data[\"Started\"]:\n",
        "  date = i.split('-')\n",
        "  tmp.append(date[0] + date[1])\n",
        "incident_data[\"Started\"] = tmp"
      ],
      "metadata": {
        "id": "F8izvftklTo-"
      },
      "execution_count": 7,
      "outputs": []
    },
    {
      "cell_type": "code",
      "source": [
        "incident_data = incident_data.rename(columns={'Counties': 'County'})"
      ],
      "metadata": {
        "id": "7hIxRw32k0HL"
      },
      "execution_count": 8,
      "outputs": []
    },
    {
      "cell_type": "code",
      "source": [
        "county = []\n",
        "for i in incident_data[\"County\"]:\n",
        "  name = i.split(\" \")\n",
        "  tmp = \"\".join([i.lower() for i in name])\n",
        "  county.append(tmp.capitalize())\n",
        "incident_data[\"County\"] = county"
      ],
      "metadata": {
        "id": "3AoYgcEYlfs9"
      },
      "execution_count": 9,
      "outputs": []
    },
    {
      "cell_type": "code",
      "source": [
        "incident_data = incident_data.fillna(0)"
      ],
      "metadata": {
        "id": "R6rujq3_lxWu"
      },
      "execution_count": 10,
      "outputs": []
    },
    {
      "cell_type": "code",
      "source": [
        "group = dict()\n",
        "for i in range(len(incident_data)):\n",
        "  if incident_data.iloc[i]['Started'] != '196912':\n",
        "    key = incident_data.iloc[i]['Started'] + incident_data.iloc[i]['County']\n",
        "    if key not in group:\n",
        "      group[key] = incident_data.iloc[i].to_dict()\n",
        "    else:\n",
        "      group[key]['AcresBurned'] += incident_data.iloc[i]['AcresBurned']\n",
        "      group[key]['Injuries'] += incident_data.iloc[i]['Injuries']\n",
        "      group[key]['Fatalities'] += incident_data.iloc[i]['Fatalities']\n",
        "      group[key]['StructuresDestroyed'] += incident_data.iloc[i]['StructuresDestroyed']\n",
        "      group[key]['StructuresDamaged'] += incident_data.iloc[i]['StructuresDamaged']"
      ],
      "metadata": {
        "id": "Z3UqYhJ9l1hf"
      },
      "execution_count": 11,
      "outputs": []
    },
    {
      "cell_type": "code",
      "source": [
        "tmp = []\n",
        "for k,v in group.items():\n",
        "  tmp.append(v)\n",
        "combo_incident_data = pd.DataFrame(tmp)"
      ],
      "metadata": {
        "id": "ufNwjMgankRd"
      },
      "execution_count": 12,
      "outputs": []
    },
    {
      "cell_type": "code",
      "source": [
        "combo_incident_data"
      ],
      "metadata": {
        "colab": {
          "base_uri": "https://localhost:8080/",
          "height": 424
        },
        "id": "kOtTfp3kqWz0",
        "outputId": "6afcc111-85b8-4e9f-a8ee-4d8e6546857d"
      },
      "execution_count": 13,
      "outputs": [
        {
          "output_type": "execute_result",
          "data": {
            "text/plain": [
              "    Started      County  AcresBurned  Injuries  Fatalities  \\\n",
              "0    201308    Tuolumne     258384.0       0.0         0.0   \n",
              "1    201305  Losangeles      31135.0       0.0         0.0   \n",
              "2    201307   Riverside      27736.0       0.0         0.0   \n",
              "3    201308      Placer      27440.0       0.0         0.0   \n",
              "4    201305     Ventura      28597.0      14.0         0.0   \n",
              "..      ...         ...          ...       ...         ...   \n",
              "903  201909      Amador         10.0       1.0         0.0   \n",
              "904  201907       Butte         10.0       0.0         0.0   \n",
              "905  201904       Butte         10.0       0.0         0.0   \n",
              "906  201906      Nevada          2.0       0.0         0.0   \n",
              "907  201911        Yolo          0.0       0.0         0.0   \n",
              "\n",
              "     StructuresDestroyed  StructuresDamaged  \n",
              "0                    0.0                0.0  \n",
              "1                    0.0                0.0  \n",
              "2                    0.0                0.0  \n",
              "3                    0.0                0.0  \n",
              "4                   10.0                6.0  \n",
              "..                   ...                ...  \n",
              "903                  0.0                0.0  \n",
              "904                  0.0                0.0  \n",
              "905                  0.0                0.0  \n",
              "906                  0.0                0.0  \n",
              "907                  0.0                0.0  \n",
              "\n",
              "[908 rows x 7 columns]"
            ],
            "text/html": [
              "\n",
              "  <div id=\"df-25b09946-87ca-4e5c-a64e-96fd6953f14c\" class=\"colab-df-container\">\n",
              "    <div>\n",
              "<style scoped>\n",
              "    .dataframe tbody tr th:only-of-type {\n",
              "        vertical-align: middle;\n",
              "    }\n",
              "\n",
              "    .dataframe tbody tr th {\n",
              "        vertical-align: top;\n",
              "    }\n",
              "\n",
              "    .dataframe thead th {\n",
              "        text-align: right;\n",
              "    }\n",
              "</style>\n",
              "<table border=\"1\" class=\"dataframe\">\n",
              "  <thead>\n",
              "    <tr style=\"text-align: right;\">\n",
              "      <th></th>\n",
              "      <th>Started</th>\n",
              "      <th>County</th>\n",
              "      <th>AcresBurned</th>\n",
              "      <th>Injuries</th>\n",
              "      <th>Fatalities</th>\n",
              "      <th>StructuresDestroyed</th>\n",
              "      <th>StructuresDamaged</th>\n",
              "    </tr>\n",
              "  </thead>\n",
              "  <tbody>\n",
              "    <tr>\n",
              "      <th>0</th>\n",
              "      <td>201308</td>\n",
              "      <td>Tuolumne</td>\n",
              "      <td>258384.0</td>\n",
              "      <td>0.0</td>\n",
              "      <td>0.0</td>\n",
              "      <td>0.0</td>\n",
              "      <td>0.0</td>\n",
              "    </tr>\n",
              "    <tr>\n",
              "      <th>1</th>\n",
              "      <td>201305</td>\n",
              "      <td>Losangeles</td>\n",
              "      <td>31135.0</td>\n",
              "      <td>0.0</td>\n",
              "      <td>0.0</td>\n",
              "      <td>0.0</td>\n",
              "      <td>0.0</td>\n",
              "    </tr>\n",
              "    <tr>\n",
              "      <th>2</th>\n",
              "      <td>201307</td>\n",
              "      <td>Riverside</td>\n",
              "      <td>27736.0</td>\n",
              "      <td>0.0</td>\n",
              "      <td>0.0</td>\n",
              "      <td>0.0</td>\n",
              "      <td>0.0</td>\n",
              "    </tr>\n",
              "    <tr>\n",
              "      <th>3</th>\n",
              "      <td>201308</td>\n",
              "      <td>Placer</td>\n",
              "      <td>27440.0</td>\n",
              "      <td>0.0</td>\n",
              "      <td>0.0</td>\n",
              "      <td>0.0</td>\n",
              "      <td>0.0</td>\n",
              "    </tr>\n",
              "    <tr>\n",
              "      <th>4</th>\n",
              "      <td>201305</td>\n",
              "      <td>Ventura</td>\n",
              "      <td>28597.0</td>\n",
              "      <td>14.0</td>\n",
              "      <td>0.0</td>\n",
              "      <td>10.0</td>\n",
              "      <td>6.0</td>\n",
              "    </tr>\n",
              "    <tr>\n",
              "      <th>...</th>\n",
              "      <td>...</td>\n",
              "      <td>...</td>\n",
              "      <td>...</td>\n",
              "      <td>...</td>\n",
              "      <td>...</td>\n",
              "      <td>...</td>\n",
              "      <td>...</td>\n",
              "    </tr>\n",
              "    <tr>\n",
              "      <th>903</th>\n",
              "      <td>201909</td>\n",
              "      <td>Amador</td>\n",
              "      <td>10.0</td>\n",
              "      <td>1.0</td>\n",
              "      <td>0.0</td>\n",
              "      <td>0.0</td>\n",
              "      <td>0.0</td>\n",
              "    </tr>\n",
              "    <tr>\n",
              "      <th>904</th>\n",
              "      <td>201907</td>\n",
              "      <td>Butte</td>\n",
              "      <td>10.0</td>\n",
              "      <td>0.0</td>\n",
              "      <td>0.0</td>\n",
              "      <td>0.0</td>\n",
              "      <td>0.0</td>\n",
              "    </tr>\n",
              "    <tr>\n",
              "      <th>905</th>\n",
              "      <td>201904</td>\n",
              "      <td>Butte</td>\n",
              "      <td>10.0</td>\n",
              "      <td>0.0</td>\n",
              "      <td>0.0</td>\n",
              "      <td>0.0</td>\n",
              "      <td>0.0</td>\n",
              "    </tr>\n",
              "    <tr>\n",
              "      <th>906</th>\n",
              "      <td>201906</td>\n",
              "      <td>Nevada</td>\n",
              "      <td>2.0</td>\n",
              "      <td>0.0</td>\n",
              "      <td>0.0</td>\n",
              "      <td>0.0</td>\n",
              "      <td>0.0</td>\n",
              "    </tr>\n",
              "    <tr>\n",
              "      <th>907</th>\n",
              "      <td>201911</td>\n",
              "      <td>Yolo</td>\n",
              "      <td>0.0</td>\n",
              "      <td>0.0</td>\n",
              "      <td>0.0</td>\n",
              "      <td>0.0</td>\n",
              "      <td>0.0</td>\n",
              "    </tr>\n",
              "  </tbody>\n",
              "</table>\n",
              "<p>908 rows × 7 columns</p>\n",
              "</div>\n",
              "    <div class=\"colab-df-buttons\">\n",
              "\n",
              "  <div class=\"colab-df-container\">\n",
              "    <button class=\"colab-df-convert\" onclick=\"convertToInteractive('df-25b09946-87ca-4e5c-a64e-96fd6953f14c')\"\n",
              "            title=\"Convert this dataframe to an interactive table.\"\n",
              "            style=\"display:none;\">\n",
              "\n",
              "  <svg xmlns=\"http://www.w3.org/2000/svg\" height=\"24px\" viewBox=\"0 -960 960 960\">\n",
              "    <path d=\"M120-120v-720h720v720H120Zm60-500h600v-160H180v160Zm220 220h160v-160H400v160Zm0 220h160v-160H400v160ZM180-400h160v-160H180v160Zm440 0h160v-160H620v160ZM180-180h160v-160H180v160Zm440 0h160v-160H620v160Z\"/>\n",
              "  </svg>\n",
              "    </button>\n",
              "\n",
              "  <style>\n",
              "    .colab-df-container {\n",
              "      display:flex;\n",
              "      gap: 12px;\n",
              "    }\n",
              "\n",
              "    .colab-df-convert {\n",
              "      background-color: #E8F0FE;\n",
              "      border: none;\n",
              "      border-radius: 50%;\n",
              "      cursor: pointer;\n",
              "      display: none;\n",
              "      fill: #1967D2;\n",
              "      height: 32px;\n",
              "      padding: 0 0 0 0;\n",
              "      width: 32px;\n",
              "    }\n",
              "\n",
              "    .colab-df-convert:hover {\n",
              "      background-color: #E2EBFA;\n",
              "      box-shadow: 0px 1px 2px rgba(60, 64, 67, 0.3), 0px 1px 3px 1px rgba(60, 64, 67, 0.15);\n",
              "      fill: #174EA6;\n",
              "    }\n",
              "\n",
              "    .colab-df-buttons div {\n",
              "      margin-bottom: 4px;\n",
              "    }\n",
              "\n",
              "    [theme=dark] .colab-df-convert {\n",
              "      background-color: #3B4455;\n",
              "      fill: #D2E3FC;\n",
              "    }\n",
              "\n",
              "    [theme=dark] .colab-df-convert:hover {\n",
              "      background-color: #434B5C;\n",
              "      box-shadow: 0px 1px 3px 1px rgba(0, 0, 0, 0.15);\n",
              "      filter: drop-shadow(0px 1px 2px rgba(0, 0, 0, 0.3));\n",
              "      fill: #FFFFFF;\n",
              "    }\n",
              "  </style>\n",
              "\n",
              "    <script>\n",
              "      const buttonEl =\n",
              "        document.querySelector('#df-25b09946-87ca-4e5c-a64e-96fd6953f14c button.colab-df-convert');\n",
              "      buttonEl.style.display =\n",
              "        google.colab.kernel.accessAllowed ? 'block' : 'none';\n",
              "\n",
              "      async function convertToInteractive(key) {\n",
              "        const element = document.querySelector('#df-25b09946-87ca-4e5c-a64e-96fd6953f14c');\n",
              "        const dataTable =\n",
              "          await google.colab.kernel.invokeFunction('convertToInteractive',\n",
              "                                                    [key], {});\n",
              "        if (!dataTable) return;\n",
              "\n",
              "        const docLinkHtml = 'Like what you see? Visit the ' +\n",
              "          '<a target=\"_blank\" href=https://colab.research.google.com/notebooks/data_table.ipynb>data table notebook</a>'\n",
              "          + ' to learn more about interactive tables.';\n",
              "        element.innerHTML = '';\n",
              "        dataTable['output_type'] = 'display_data';\n",
              "        await google.colab.output.renderOutput(dataTable, element);\n",
              "        const docLink = document.createElement('div');\n",
              "        docLink.innerHTML = docLinkHtml;\n",
              "        element.appendChild(docLink);\n",
              "      }\n",
              "    </script>\n",
              "  </div>\n",
              "\n",
              "\n",
              "    <div id=\"df-0bfd4cdd-2f14-42b7-93c1-9a0d6f33dada\">\n",
              "      <button class=\"colab-df-quickchart\" onclick=\"quickchart('df-0bfd4cdd-2f14-42b7-93c1-9a0d6f33dada')\"\n",
              "                title=\"Suggest charts\"\n",
              "                style=\"display:none;\">\n",
              "\n",
              "<svg xmlns=\"http://www.w3.org/2000/svg\" height=\"24px\"viewBox=\"0 0 24 24\"\n",
              "     width=\"24px\">\n",
              "    <g>\n",
              "        <path d=\"M19 3H5c-1.1 0-2 .9-2 2v14c0 1.1.9 2 2 2h14c1.1 0 2-.9 2-2V5c0-1.1-.9-2-2-2zM9 17H7v-7h2v7zm4 0h-2V7h2v10zm4 0h-2v-4h2v4z\"/>\n",
              "    </g>\n",
              "</svg>\n",
              "      </button>\n",
              "\n",
              "<style>\n",
              "  .colab-df-quickchart {\n",
              "      --bg-color: #E8F0FE;\n",
              "      --fill-color: #1967D2;\n",
              "      --hover-bg-color: #E2EBFA;\n",
              "      --hover-fill-color: #174EA6;\n",
              "      --disabled-fill-color: #AAA;\n",
              "      --disabled-bg-color: #DDD;\n",
              "  }\n",
              "\n",
              "  [theme=dark] .colab-df-quickchart {\n",
              "      --bg-color: #3B4455;\n",
              "      --fill-color: #D2E3FC;\n",
              "      --hover-bg-color: #434B5C;\n",
              "      --hover-fill-color: #FFFFFF;\n",
              "      --disabled-bg-color: #3B4455;\n",
              "      --disabled-fill-color: #666;\n",
              "  }\n",
              "\n",
              "  .colab-df-quickchart {\n",
              "    background-color: var(--bg-color);\n",
              "    border: none;\n",
              "    border-radius: 50%;\n",
              "    cursor: pointer;\n",
              "    display: none;\n",
              "    fill: var(--fill-color);\n",
              "    height: 32px;\n",
              "    padding: 0;\n",
              "    width: 32px;\n",
              "  }\n",
              "\n",
              "  .colab-df-quickchart:hover {\n",
              "    background-color: var(--hover-bg-color);\n",
              "    box-shadow: 0 1px 2px rgba(60, 64, 67, 0.3), 0 1px 3px 1px rgba(60, 64, 67, 0.15);\n",
              "    fill: var(--button-hover-fill-color);\n",
              "  }\n",
              "\n",
              "  .colab-df-quickchart-complete:disabled,\n",
              "  .colab-df-quickchart-complete:disabled:hover {\n",
              "    background-color: var(--disabled-bg-color);\n",
              "    fill: var(--disabled-fill-color);\n",
              "    box-shadow: none;\n",
              "  }\n",
              "\n",
              "  .colab-df-spinner {\n",
              "    border: 2px solid var(--fill-color);\n",
              "    border-color: transparent;\n",
              "    border-bottom-color: var(--fill-color);\n",
              "    animation:\n",
              "      spin 1s steps(1) infinite;\n",
              "  }\n",
              "\n",
              "  @keyframes spin {\n",
              "    0% {\n",
              "      border-color: transparent;\n",
              "      border-bottom-color: var(--fill-color);\n",
              "      border-left-color: var(--fill-color);\n",
              "    }\n",
              "    20% {\n",
              "      border-color: transparent;\n",
              "      border-left-color: var(--fill-color);\n",
              "      border-top-color: var(--fill-color);\n",
              "    }\n",
              "    30% {\n",
              "      border-color: transparent;\n",
              "      border-left-color: var(--fill-color);\n",
              "      border-top-color: var(--fill-color);\n",
              "      border-right-color: var(--fill-color);\n",
              "    }\n",
              "    40% {\n",
              "      border-color: transparent;\n",
              "      border-right-color: var(--fill-color);\n",
              "      border-top-color: var(--fill-color);\n",
              "    }\n",
              "    60% {\n",
              "      border-color: transparent;\n",
              "      border-right-color: var(--fill-color);\n",
              "    }\n",
              "    80% {\n",
              "      border-color: transparent;\n",
              "      border-right-color: var(--fill-color);\n",
              "      border-bottom-color: var(--fill-color);\n",
              "    }\n",
              "    90% {\n",
              "      border-color: transparent;\n",
              "      border-bottom-color: var(--fill-color);\n",
              "    }\n",
              "  }\n",
              "</style>\n",
              "\n",
              "      <script>\n",
              "        async function quickchart(key) {\n",
              "          const quickchartButtonEl =\n",
              "            document.querySelector('#' + key + ' button');\n",
              "          quickchartButtonEl.disabled = true;  // To prevent multiple clicks.\n",
              "          quickchartButtonEl.classList.add('colab-df-spinner');\n",
              "          try {\n",
              "            const charts = await google.colab.kernel.invokeFunction(\n",
              "                'suggestCharts', [key], {});\n",
              "          } catch (error) {\n",
              "            console.error('Error during call to suggestCharts:', error);\n",
              "          }\n",
              "          quickchartButtonEl.classList.remove('colab-df-spinner');\n",
              "          quickchartButtonEl.classList.add('colab-df-quickchart-complete');\n",
              "        }\n",
              "        (() => {\n",
              "          let quickchartButtonEl =\n",
              "            document.querySelector('#df-0bfd4cdd-2f14-42b7-93c1-9a0d6f33dada button');\n",
              "          quickchartButtonEl.style.display =\n",
              "            google.colab.kernel.accessAllowed ? 'block' : 'none';\n",
              "        })();\n",
              "      </script>\n",
              "    </div>\n",
              "\n",
              "  <div id=\"id_d829b13e-1cf4-4967-ae9b-be9ea035e245\">\n",
              "    <style>\n",
              "      .colab-df-generate {\n",
              "        background-color: #E8F0FE;\n",
              "        border: none;\n",
              "        border-radius: 50%;\n",
              "        cursor: pointer;\n",
              "        display: none;\n",
              "        fill: #1967D2;\n",
              "        height: 32px;\n",
              "        padding: 0 0 0 0;\n",
              "        width: 32px;\n",
              "      }\n",
              "\n",
              "      .colab-df-generate:hover {\n",
              "        background-color: #E2EBFA;\n",
              "        box-shadow: 0px 1px 2px rgba(60, 64, 67, 0.3), 0px 1px 3px 1px rgba(60, 64, 67, 0.15);\n",
              "        fill: #174EA6;\n",
              "      }\n",
              "\n",
              "      [theme=dark] .colab-df-generate {\n",
              "        background-color: #3B4455;\n",
              "        fill: #D2E3FC;\n",
              "      }\n",
              "\n",
              "      [theme=dark] .colab-df-generate:hover {\n",
              "        background-color: #434B5C;\n",
              "        box-shadow: 0px 1px 3px 1px rgba(0, 0, 0, 0.15);\n",
              "        filter: drop-shadow(0px 1px 2px rgba(0, 0, 0, 0.3));\n",
              "        fill: #FFFFFF;\n",
              "      }\n",
              "    </style>\n",
              "    <button class=\"colab-df-generate\" onclick=\"generateWithVariable('combo_incident_data')\"\n",
              "            title=\"Generate code using this dataframe.\"\n",
              "            style=\"display:none;\">\n",
              "\n",
              "  <svg xmlns=\"http://www.w3.org/2000/svg\" height=\"24px\"viewBox=\"0 0 24 24\"\n",
              "       width=\"24px\">\n",
              "    <path d=\"M7,19H8.4L18.45,9,17,7.55,7,17.6ZM5,21V16.75L18.45,3.32a2,2,0,0,1,2.83,0l1.4,1.43a1.91,1.91,0,0,1,.58,1.4,1.91,1.91,0,0,1-.58,1.4L9.25,21ZM18.45,9,17,7.55Zm-12,3A5.31,5.31,0,0,0,4.9,8.1,5.31,5.31,0,0,0,1,6.5,5.31,5.31,0,0,0,4.9,4.9,5.31,5.31,0,0,0,6.5,1,5.31,5.31,0,0,0,8.1,4.9,5.31,5.31,0,0,0,12,6.5,5.46,5.46,0,0,0,6.5,12Z\"/>\n",
              "  </svg>\n",
              "    </button>\n",
              "    <script>\n",
              "      (() => {\n",
              "      const buttonEl =\n",
              "        document.querySelector('#id_d829b13e-1cf4-4967-ae9b-be9ea035e245 button.colab-df-generate');\n",
              "      buttonEl.style.display =\n",
              "        google.colab.kernel.accessAllowed ? 'block' : 'none';\n",
              "\n",
              "      buttonEl.onclick = () => {\n",
              "        google.colab.notebook.generateWithVariable('combo_incident_data');\n",
              "      }\n",
              "      })();\n",
              "    </script>\n",
              "  </div>\n",
              "\n",
              "    </div>\n",
              "  </div>\n"
            ],
            "application/vnd.google.colaboratory.intrinsic+json": {
              "type": "dataframe",
              "variable_name": "combo_incident_data",
              "summary": "{\n  \"name\": \"combo_incident_data\",\n  \"rows\": 908,\n  \"fields\": [\n    {\n      \"column\": \"Started\",\n      \"properties\": {\n        \"dtype\": \"category\",\n        \"num_unique_values\": 67,\n        \"samples\": [\n          \"201604\",\n          \"201404\",\n          \"201311\"\n        ],\n        \"semantic_type\": \"\",\n        \"description\": \"\"\n      }\n    },\n    {\n      \"column\": \"County\",\n      \"properties\": {\n        \"dtype\": \"category\",\n        \"num_unique_values\": 56,\n        \"samples\": [\n          \"Tuolumne\",\n          \"Fresno\",\n          \"Sacramento\"\n        ],\n        \"semantic_type\": \"\",\n        \"description\": \"\"\n      }\n    },\n    {\n      \"column\": \"AcresBurned\",\n      \"properties\": {\n        \"dtype\": \"number\",\n        \"std\": 38768.602240097,\n        \"min\": 0.0,\n        \"max\": 460252.0,\n        \"num_unique_values\": 578,\n        \"samples\": [\n          2100.0,\n          66.0,\n          668.0\n        ],\n        \"semantic_type\": \"\",\n        \"description\": \"\"\n      }\n    },\n    {\n      \"column\": \"Injuries\",\n      \"properties\": {\n        \"dtype\": \"number\",\n        \"std\": 2.0311051060347642,\n        \"min\": 0.0,\n        \"max\": 32.0,\n        \"num_unique_values\": 17,\n        \"samples\": [\n          0.0,\n          14.0,\n          12.0\n        ],\n        \"semantic_type\": \"\",\n        \"description\": \"\"\n      }\n    },\n    {\n      \"column\": \"Fatalities\",\n      \"properties\": {\n        \"dtype\": \"number\",\n        \"std\": 3.1421520872288906,\n        \"min\": 0.0,\n        \"max\": 85.0,\n        \"num_unique_values\": 10,\n        \"samples\": [\n          85.0,\n          1.0,\n          9.0\n        ],\n        \"semantic_type\": \"\",\n        \"description\": \"\"\n      }\n    },\n    {\n      \"column\": \"StructuresDestroyed\",\n      \"properties\": {\n        \"dtype\": \"number\",\n        \"std\": 715.841517873264,\n        \"min\": 0.0,\n        \"max\": 18804.0,\n        \"num_unique_values\": 61,\n        \"samples\": [\n          0.0,\n          1.0,\n          1614.0\n        ],\n        \"semantic_type\": \"\",\n        \"description\": \"\"\n      }\n    },\n    {\n      \"column\": \"StructuresDamaged\",\n      \"properties\": {\n        \"dtype\": \"number\",\n        \"std\": 56.36672902768031,\n        \"min\": 0.0,\n        \"max\": 1272.0,\n        \"num_unique_values\": 28,\n        \"samples\": [\n          4.0,\n          12.0,\n          5.0\n        ],\n        \"semantic_type\": \"\",\n        \"description\": \"\"\n      }\n    }\n  ]\n}"
            }
          },
          "metadata": {},
          "execution_count": 13
        }
      ]
    },
    {
      "cell_type": "code",
      "source": [
        "property_value = pd.read_csv(\"/content/Housing Price.csv\")"
      ],
      "metadata": {
        "id": "7JdhwzU7q3OB"
      },
      "execution_count": 14,
      "outputs": []
    },
    {
      "cell_type": "code",
      "source": [
        "property_value = property_value.fillna(\"0\")"
      ],
      "metadata": {
        "id": "Jrt7AGeM1EhE"
      },
      "execution_count": 15,
      "outputs": []
    },
    {
      "cell_type": "code",
      "source": [],
      "metadata": {
        "id": "yaclJ8xT1W4c"
      },
      "execution_count": 15,
      "outputs": []
    },
    {
      "cell_type": "code",
      "source": [
        "for i in property_value.columns:\n",
        "  if i != 'Mon-Yr':\n",
        "    property_value[i] = property_value[i].str.replace('$', '', ).str.replace(',', '').astype(int)"
      ],
      "metadata": {
        "id": "jyOqMWua0kBH"
      },
      "execution_count": 16,
      "outputs": []
    },
    {
      "cell_type": "code",
      "source": [
        "property_value.set_index(property_value.columns[0], inplace=True)"
      ],
      "metadata": {
        "id": "POz5Bm3Xq9Ph"
      },
      "execution_count": 17,
      "outputs": []
    },
    {
      "cell_type": "code",
      "source": [
        "for i in property_value.columns:\n",
        "  mean = sum(property_value[i][property_value[i] != 0]) / sum(property_value[i] != 0)\n",
        "  property_value[i] = property_value[i].replace(0, mean)"
      ],
      "metadata": {
        "id": "stwdU5Rw0jUX"
      },
      "execution_count": 18,
      "outputs": []
    },
    {
      "cell_type": "code",
      "source": [
        "lookup = {\n",
        "    \"Losangeles\": \"Los Angeles\",\n",
        "    \"Sandiego\" : \"San Diego\",\n",
        "    'Contracosta':'Contra-Costa',\n",
        "    'Santabarbara': 'Santa Barbara',\n",
        "    'Eldorado':'El Dorado',\n",
        "    'Sanbernardino':'San Bernardino',\n",
        "    'Sanbenito': 'San Benito',\n",
        "    'Sanjoaquin': 'San Joaquin',\n",
        "    'Santaclara': 'Santa Clara',\n",
        "    'Sanmateo': 'San Mateo',\n",
        "    'Santacruz': 'Santa Cruz'\n",
        "}\n",
        "\n",
        "translate_date = {\n",
        "    '01':\"Jan\",\n",
        "    '02':\"Feb\",\n",
        "    '03':\"Mar\",\n",
        "    '04':\"Apr\",\n",
        "    '05':\"May\",\n",
        "    '06':\"Jun\",\n",
        "    '07':\"Jul\",\n",
        "    '08':\"Aug\",\n",
        "    '09':\"Sep\",\n",
        "    '10':\"Oct\",\n",
        "    '11':\"Nov\",\n",
        "    '12':\"Dec\",\n",
        "}"
      ],
      "metadata": {
        "id": "z3a6mEC6rwmN"
      },
      "execution_count": 19,
      "outputs": []
    },
    {
      "cell_type": "code",
      "source": [],
      "metadata": {
        "id": "3uDpAfg9v1mA"
      },
      "execution_count": 19,
      "outputs": []
    },
    {
      "cell_type": "code",
      "source": [
        "tmp = []\n",
        "for i in range(len(combo_incident_data)):\n",
        "  county = combo_incident_data.iloc[i]['County']\n",
        "  date = combo_incident_data.iloc[i]['Started']\n",
        "  year = date[2:4]\n",
        "  #print(date)\n",
        "  month = translate_date[date[4:6]]\n",
        "  fomatted = month + '-' + year\n",
        "  value = ''\n",
        "  if county in property_value.columns:\n",
        "    value = property_value[county][fomatted]\n",
        "  elif county == \"Modoc\":\n",
        "    value = 212000\n",
        "  elif county == \"Sanluisobispo\":\n",
        "    value = 900000\n",
        "  elif county == 'Inyo':\n",
        "    value = 794500\n",
        "  elif county == 'Colusa':\n",
        "    value = 525000\n",
        "  elif county == 'Delnorte':\n",
        "    value = 366568\n",
        "  elif county == 'Alpine':\n",
        "    value = 511189\n",
        "  elif county == 'Sierra':\n",
        "    value = 449000\n",
        "  else:\n",
        "    value = property_value[lookup[county]][fomatted]\n",
        "\n",
        "  dmg = value * combo_incident_data.iloc[i]['StructuresDestroyed'] + \\\n",
        "        value * combo_incident_data.iloc[i]['StructuresDamaged'] * 0.5\n",
        "  tmp.append(dmg)"
      ],
      "metadata": {
        "collapsed": true,
        "id": "fejSKvtyrRp6"
      },
      "execution_count": 20,
      "outputs": []
    },
    {
      "cell_type": "code",
      "source": [
        "combo_incident_data['PropetyValue Damage'] = tmp"
      ],
      "metadata": {
        "id": "go-kmXTXr9ep"
      },
      "execution_count": 21,
      "outputs": []
    },
    {
      "cell_type": "code",
      "source": [
        "combo_incident_data"
      ],
      "metadata": {
        "colab": {
          "base_uri": "https://localhost:8080/",
          "height": 461
        },
        "id": "8PusD0IT4P8o",
        "outputId": "3280a700-476a-49ef-af82-50b7f8a0c241"
      },
      "execution_count": 22,
      "outputs": [
        {
          "output_type": "execute_result",
          "data": {
            "text/plain": [
              "    Started      County  AcresBurned  Injuries  Fatalities  \\\n",
              "0    201308    Tuolumne     258384.0       0.0         0.0   \n",
              "1    201305  Losangeles      31135.0       0.0         0.0   \n",
              "2    201307   Riverside      27736.0       0.0         0.0   \n",
              "3    201308      Placer      27440.0       0.0         0.0   \n",
              "4    201305     Ventura      28597.0      14.0         0.0   \n",
              "..      ...         ...          ...       ...         ...   \n",
              "903  201909      Amador         10.0       1.0         0.0   \n",
              "904  201907       Butte         10.0       0.0         0.0   \n",
              "905  201904       Butte         10.0       0.0         0.0   \n",
              "906  201906      Nevada          2.0       0.0         0.0   \n",
              "907  201911        Yolo          0.0       0.0         0.0   \n",
              "\n",
              "     StructuresDestroyed  StructuresDamaged  PropetyValue Damage  \n",
              "0                    0.0                0.0                  0.0  \n",
              "1                    0.0                0.0                  0.0  \n",
              "2                    0.0                0.0                  0.0  \n",
              "3                    0.0                0.0                  0.0  \n",
              "4                   10.0                6.0            6459310.0  \n",
              "..                   ...                ...                  ...  \n",
              "903                  0.0                0.0                  0.0  \n",
              "904                  0.0                0.0                  0.0  \n",
              "905                  0.0                0.0                  0.0  \n",
              "906                  0.0                0.0                  0.0  \n",
              "907                  0.0                0.0                  0.0  \n",
              "\n",
              "[908 rows x 8 columns]"
            ],
            "text/html": [
              "\n",
              "  <div id=\"df-257d8e60-a40c-40e7-8a46-3b1a6e8e49b3\" class=\"colab-df-container\">\n",
              "    <div>\n",
              "<style scoped>\n",
              "    .dataframe tbody tr th:only-of-type {\n",
              "        vertical-align: middle;\n",
              "    }\n",
              "\n",
              "    .dataframe tbody tr th {\n",
              "        vertical-align: top;\n",
              "    }\n",
              "\n",
              "    .dataframe thead th {\n",
              "        text-align: right;\n",
              "    }\n",
              "</style>\n",
              "<table border=\"1\" class=\"dataframe\">\n",
              "  <thead>\n",
              "    <tr style=\"text-align: right;\">\n",
              "      <th></th>\n",
              "      <th>Started</th>\n",
              "      <th>County</th>\n",
              "      <th>AcresBurned</th>\n",
              "      <th>Injuries</th>\n",
              "      <th>Fatalities</th>\n",
              "      <th>StructuresDestroyed</th>\n",
              "      <th>StructuresDamaged</th>\n",
              "      <th>PropetyValue Damage</th>\n",
              "    </tr>\n",
              "  </thead>\n",
              "  <tbody>\n",
              "    <tr>\n",
              "      <th>0</th>\n",
              "      <td>201308</td>\n",
              "      <td>Tuolumne</td>\n",
              "      <td>258384.0</td>\n",
              "      <td>0.0</td>\n",
              "      <td>0.0</td>\n",
              "      <td>0.0</td>\n",
              "      <td>0.0</td>\n",
              "      <td>0.0</td>\n",
              "    </tr>\n",
              "    <tr>\n",
              "      <th>1</th>\n",
              "      <td>201305</td>\n",
              "      <td>Losangeles</td>\n",
              "      <td>31135.0</td>\n",
              "      <td>0.0</td>\n",
              "      <td>0.0</td>\n",
              "      <td>0.0</td>\n",
              "      <td>0.0</td>\n",
              "      <td>0.0</td>\n",
              "    </tr>\n",
              "    <tr>\n",
              "      <th>2</th>\n",
              "      <td>201307</td>\n",
              "      <td>Riverside</td>\n",
              "      <td>27736.0</td>\n",
              "      <td>0.0</td>\n",
              "      <td>0.0</td>\n",
              "      <td>0.0</td>\n",
              "      <td>0.0</td>\n",
              "      <td>0.0</td>\n",
              "    </tr>\n",
              "    <tr>\n",
              "      <th>3</th>\n",
              "      <td>201308</td>\n",
              "      <td>Placer</td>\n",
              "      <td>27440.0</td>\n",
              "      <td>0.0</td>\n",
              "      <td>0.0</td>\n",
              "      <td>0.0</td>\n",
              "      <td>0.0</td>\n",
              "      <td>0.0</td>\n",
              "    </tr>\n",
              "    <tr>\n",
              "      <th>4</th>\n",
              "      <td>201305</td>\n",
              "      <td>Ventura</td>\n",
              "      <td>28597.0</td>\n",
              "      <td>14.0</td>\n",
              "      <td>0.0</td>\n",
              "      <td>10.0</td>\n",
              "      <td>6.0</td>\n",
              "      <td>6459310.0</td>\n",
              "    </tr>\n",
              "    <tr>\n",
              "      <th>...</th>\n",
              "      <td>...</td>\n",
              "      <td>...</td>\n",
              "      <td>...</td>\n",
              "      <td>...</td>\n",
              "      <td>...</td>\n",
              "      <td>...</td>\n",
              "      <td>...</td>\n",
              "      <td>...</td>\n",
              "    </tr>\n",
              "    <tr>\n",
              "      <th>903</th>\n",
              "      <td>201909</td>\n",
              "      <td>Amador</td>\n",
              "      <td>10.0</td>\n",
              "      <td>1.0</td>\n",
              "      <td>0.0</td>\n",
              "      <td>0.0</td>\n",
              "      <td>0.0</td>\n",
              "      <td>0.0</td>\n",
              "    </tr>\n",
              "    <tr>\n",
              "      <th>904</th>\n",
              "      <td>201907</td>\n",
              "      <td>Butte</td>\n",
              "      <td>10.0</td>\n",
              "      <td>0.0</td>\n",
              "      <td>0.0</td>\n",
              "      <td>0.0</td>\n",
              "      <td>0.0</td>\n",
              "      <td>0.0</td>\n",
              "    </tr>\n",
              "    <tr>\n",
              "      <th>905</th>\n",
              "      <td>201904</td>\n",
              "      <td>Butte</td>\n",
              "      <td>10.0</td>\n",
              "      <td>0.0</td>\n",
              "      <td>0.0</td>\n",
              "      <td>0.0</td>\n",
              "      <td>0.0</td>\n",
              "      <td>0.0</td>\n",
              "    </tr>\n",
              "    <tr>\n",
              "      <th>906</th>\n",
              "      <td>201906</td>\n",
              "      <td>Nevada</td>\n",
              "      <td>2.0</td>\n",
              "      <td>0.0</td>\n",
              "      <td>0.0</td>\n",
              "      <td>0.0</td>\n",
              "      <td>0.0</td>\n",
              "      <td>0.0</td>\n",
              "    </tr>\n",
              "    <tr>\n",
              "      <th>907</th>\n",
              "      <td>201911</td>\n",
              "      <td>Yolo</td>\n",
              "      <td>0.0</td>\n",
              "      <td>0.0</td>\n",
              "      <td>0.0</td>\n",
              "      <td>0.0</td>\n",
              "      <td>0.0</td>\n",
              "      <td>0.0</td>\n",
              "    </tr>\n",
              "  </tbody>\n",
              "</table>\n",
              "<p>908 rows × 8 columns</p>\n",
              "</div>\n",
              "    <div class=\"colab-df-buttons\">\n",
              "\n",
              "  <div class=\"colab-df-container\">\n",
              "    <button class=\"colab-df-convert\" onclick=\"convertToInteractive('df-257d8e60-a40c-40e7-8a46-3b1a6e8e49b3')\"\n",
              "            title=\"Convert this dataframe to an interactive table.\"\n",
              "            style=\"display:none;\">\n",
              "\n",
              "  <svg xmlns=\"http://www.w3.org/2000/svg\" height=\"24px\" viewBox=\"0 -960 960 960\">\n",
              "    <path d=\"M120-120v-720h720v720H120Zm60-500h600v-160H180v160Zm220 220h160v-160H400v160Zm0 220h160v-160H400v160ZM180-400h160v-160H180v160Zm440 0h160v-160H620v160ZM180-180h160v-160H180v160Zm440 0h160v-160H620v160Z\"/>\n",
              "  </svg>\n",
              "    </button>\n",
              "\n",
              "  <style>\n",
              "    .colab-df-container {\n",
              "      display:flex;\n",
              "      gap: 12px;\n",
              "    }\n",
              "\n",
              "    .colab-df-convert {\n",
              "      background-color: #E8F0FE;\n",
              "      border: none;\n",
              "      border-radius: 50%;\n",
              "      cursor: pointer;\n",
              "      display: none;\n",
              "      fill: #1967D2;\n",
              "      height: 32px;\n",
              "      padding: 0 0 0 0;\n",
              "      width: 32px;\n",
              "    }\n",
              "\n",
              "    .colab-df-convert:hover {\n",
              "      background-color: #E2EBFA;\n",
              "      box-shadow: 0px 1px 2px rgba(60, 64, 67, 0.3), 0px 1px 3px 1px rgba(60, 64, 67, 0.15);\n",
              "      fill: #174EA6;\n",
              "    }\n",
              "\n",
              "    .colab-df-buttons div {\n",
              "      margin-bottom: 4px;\n",
              "    }\n",
              "\n",
              "    [theme=dark] .colab-df-convert {\n",
              "      background-color: #3B4455;\n",
              "      fill: #D2E3FC;\n",
              "    }\n",
              "\n",
              "    [theme=dark] .colab-df-convert:hover {\n",
              "      background-color: #434B5C;\n",
              "      box-shadow: 0px 1px 3px 1px rgba(0, 0, 0, 0.15);\n",
              "      filter: drop-shadow(0px 1px 2px rgba(0, 0, 0, 0.3));\n",
              "      fill: #FFFFFF;\n",
              "    }\n",
              "  </style>\n",
              "\n",
              "    <script>\n",
              "      const buttonEl =\n",
              "        document.querySelector('#df-257d8e60-a40c-40e7-8a46-3b1a6e8e49b3 button.colab-df-convert');\n",
              "      buttonEl.style.display =\n",
              "        google.colab.kernel.accessAllowed ? 'block' : 'none';\n",
              "\n",
              "      async function convertToInteractive(key) {\n",
              "        const element = document.querySelector('#df-257d8e60-a40c-40e7-8a46-3b1a6e8e49b3');\n",
              "        const dataTable =\n",
              "          await google.colab.kernel.invokeFunction('convertToInteractive',\n",
              "                                                    [key], {});\n",
              "        if (!dataTable) return;\n",
              "\n",
              "        const docLinkHtml = 'Like what you see? Visit the ' +\n",
              "          '<a target=\"_blank\" href=https://colab.research.google.com/notebooks/data_table.ipynb>data table notebook</a>'\n",
              "          + ' to learn more about interactive tables.';\n",
              "        element.innerHTML = '';\n",
              "        dataTable['output_type'] = 'display_data';\n",
              "        await google.colab.output.renderOutput(dataTable, element);\n",
              "        const docLink = document.createElement('div');\n",
              "        docLink.innerHTML = docLinkHtml;\n",
              "        element.appendChild(docLink);\n",
              "      }\n",
              "    </script>\n",
              "  </div>\n",
              "\n",
              "\n",
              "    <div id=\"df-b60ed363-a369-47c5-a4f5-cf602bfd792d\">\n",
              "      <button class=\"colab-df-quickchart\" onclick=\"quickchart('df-b60ed363-a369-47c5-a4f5-cf602bfd792d')\"\n",
              "                title=\"Suggest charts\"\n",
              "                style=\"display:none;\">\n",
              "\n",
              "<svg xmlns=\"http://www.w3.org/2000/svg\" height=\"24px\"viewBox=\"0 0 24 24\"\n",
              "     width=\"24px\">\n",
              "    <g>\n",
              "        <path d=\"M19 3H5c-1.1 0-2 .9-2 2v14c0 1.1.9 2 2 2h14c1.1 0 2-.9 2-2V5c0-1.1-.9-2-2-2zM9 17H7v-7h2v7zm4 0h-2V7h2v10zm4 0h-2v-4h2v4z\"/>\n",
              "    </g>\n",
              "</svg>\n",
              "      </button>\n",
              "\n",
              "<style>\n",
              "  .colab-df-quickchart {\n",
              "      --bg-color: #E8F0FE;\n",
              "      --fill-color: #1967D2;\n",
              "      --hover-bg-color: #E2EBFA;\n",
              "      --hover-fill-color: #174EA6;\n",
              "      --disabled-fill-color: #AAA;\n",
              "      --disabled-bg-color: #DDD;\n",
              "  }\n",
              "\n",
              "  [theme=dark] .colab-df-quickchart {\n",
              "      --bg-color: #3B4455;\n",
              "      --fill-color: #D2E3FC;\n",
              "      --hover-bg-color: #434B5C;\n",
              "      --hover-fill-color: #FFFFFF;\n",
              "      --disabled-bg-color: #3B4455;\n",
              "      --disabled-fill-color: #666;\n",
              "  }\n",
              "\n",
              "  .colab-df-quickchart {\n",
              "    background-color: var(--bg-color);\n",
              "    border: none;\n",
              "    border-radius: 50%;\n",
              "    cursor: pointer;\n",
              "    display: none;\n",
              "    fill: var(--fill-color);\n",
              "    height: 32px;\n",
              "    padding: 0;\n",
              "    width: 32px;\n",
              "  }\n",
              "\n",
              "  .colab-df-quickchart:hover {\n",
              "    background-color: var(--hover-bg-color);\n",
              "    box-shadow: 0 1px 2px rgba(60, 64, 67, 0.3), 0 1px 3px 1px rgba(60, 64, 67, 0.15);\n",
              "    fill: var(--button-hover-fill-color);\n",
              "  }\n",
              "\n",
              "  .colab-df-quickchart-complete:disabled,\n",
              "  .colab-df-quickchart-complete:disabled:hover {\n",
              "    background-color: var(--disabled-bg-color);\n",
              "    fill: var(--disabled-fill-color);\n",
              "    box-shadow: none;\n",
              "  }\n",
              "\n",
              "  .colab-df-spinner {\n",
              "    border: 2px solid var(--fill-color);\n",
              "    border-color: transparent;\n",
              "    border-bottom-color: var(--fill-color);\n",
              "    animation:\n",
              "      spin 1s steps(1) infinite;\n",
              "  }\n",
              "\n",
              "  @keyframes spin {\n",
              "    0% {\n",
              "      border-color: transparent;\n",
              "      border-bottom-color: var(--fill-color);\n",
              "      border-left-color: var(--fill-color);\n",
              "    }\n",
              "    20% {\n",
              "      border-color: transparent;\n",
              "      border-left-color: var(--fill-color);\n",
              "      border-top-color: var(--fill-color);\n",
              "    }\n",
              "    30% {\n",
              "      border-color: transparent;\n",
              "      border-left-color: var(--fill-color);\n",
              "      border-top-color: var(--fill-color);\n",
              "      border-right-color: var(--fill-color);\n",
              "    }\n",
              "    40% {\n",
              "      border-color: transparent;\n",
              "      border-right-color: var(--fill-color);\n",
              "      border-top-color: var(--fill-color);\n",
              "    }\n",
              "    60% {\n",
              "      border-color: transparent;\n",
              "      border-right-color: var(--fill-color);\n",
              "    }\n",
              "    80% {\n",
              "      border-color: transparent;\n",
              "      border-right-color: var(--fill-color);\n",
              "      border-bottom-color: var(--fill-color);\n",
              "    }\n",
              "    90% {\n",
              "      border-color: transparent;\n",
              "      border-bottom-color: var(--fill-color);\n",
              "    }\n",
              "  }\n",
              "</style>\n",
              "\n",
              "      <script>\n",
              "        async function quickchart(key) {\n",
              "          const quickchartButtonEl =\n",
              "            document.querySelector('#' + key + ' button');\n",
              "          quickchartButtonEl.disabled = true;  // To prevent multiple clicks.\n",
              "          quickchartButtonEl.classList.add('colab-df-spinner');\n",
              "          try {\n",
              "            const charts = await google.colab.kernel.invokeFunction(\n",
              "                'suggestCharts', [key], {});\n",
              "          } catch (error) {\n",
              "            console.error('Error during call to suggestCharts:', error);\n",
              "          }\n",
              "          quickchartButtonEl.classList.remove('colab-df-spinner');\n",
              "          quickchartButtonEl.classList.add('colab-df-quickchart-complete');\n",
              "        }\n",
              "        (() => {\n",
              "          let quickchartButtonEl =\n",
              "            document.querySelector('#df-b60ed363-a369-47c5-a4f5-cf602bfd792d button');\n",
              "          quickchartButtonEl.style.display =\n",
              "            google.colab.kernel.accessAllowed ? 'block' : 'none';\n",
              "        })();\n",
              "      </script>\n",
              "    </div>\n",
              "\n",
              "  <div id=\"id_0d7d2ead-f4f9-4f15-852f-272d9d72e870\">\n",
              "    <style>\n",
              "      .colab-df-generate {\n",
              "        background-color: #E8F0FE;\n",
              "        border: none;\n",
              "        border-radius: 50%;\n",
              "        cursor: pointer;\n",
              "        display: none;\n",
              "        fill: #1967D2;\n",
              "        height: 32px;\n",
              "        padding: 0 0 0 0;\n",
              "        width: 32px;\n",
              "      }\n",
              "\n",
              "      .colab-df-generate:hover {\n",
              "        background-color: #E2EBFA;\n",
              "        box-shadow: 0px 1px 2px rgba(60, 64, 67, 0.3), 0px 1px 3px 1px rgba(60, 64, 67, 0.15);\n",
              "        fill: #174EA6;\n",
              "      }\n",
              "\n",
              "      [theme=dark] .colab-df-generate {\n",
              "        background-color: #3B4455;\n",
              "        fill: #D2E3FC;\n",
              "      }\n",
              "\n",
              "      [theme=dark] .colab-df-generate:hover {\n",
              "        background-color: #434B5C;\n",
              "        box-shadow: 0px 1px 3px 1px rgba(0, 0, 0, 0.15);\n",
              "        filter: drop-shadow(0px 1px 2px rgba(0, 0, 0, 0.3));\n",
              "        fill: #FFFFFF;\n",
              "      }\n",
              "    </style>\n",
              "    <button class=\"colab-df-generate\" onclick=\"generateWithVariable('combo_incident_data')\"\n",
              "            title=\"Generate code using this dataframe.\"\n",
              "            style=\"display:none;\">\n",
              "\n",
              "  <svg xmlns=\"http://www.w3.org/2000/svg\" height=\"24px\"viewBox=\"0 0 24 24\"\n",
              "       width=\"24px\">\n",
              "    <path d=\"M7,19H8.4L18.45,9,17,7.55,7,17.6ZM5,21V16.75L18.45,3.32a2,2,0,0,1,2.83,0l1.4,1.43a1.91,1.91,0,0,1,.58,1.4,1.91,1.91,0,0,1-.58,1.4L9.25,21ZM18.45,9,17,7.55Zm-12,3A5.31,5.31,0,0,0,4.9,8.1,5.31,5.31,0,0,0,1,6.5,5.31,5.31,0,0,0,4.9,4.9,5.31,5.31,0,0,0,6.5,1,5.31,5.31,0,0,0,8.1,4.9,5.31,5.31,0,0,0,12,6.5,5.46,5.46,0,0,0,6.5,12Z\"/>\n",
              "  </svg>\n",
              "    </button>\n",
              "    <script>\n",
              "      (() => {\n",
              "      const buttonEl =\n",
              "        document.querySelector('#id_0d7d2ead-f4f9-4f15-852f-272d9d72e870 button.colab-df-generate');\n",
              "      buttonEl.style.display =\n",
              "        google.colab.kernel.accessAllowed ? 'block' : 'none';\n",
              "\n",
              "      buttonEl.onclick = () => {\n",
              "        google.colab.notebook.generateWithVariable('combo_incident_data');\n",
              "      }\n",
              "      })();\n",
              "    </script>\n",
              "  </div>\n",
              "\n",
              "    </div>\n",
              "  </div>\n"
            ],
            "application/vnd.google.colaboratory.intrinsic+json": {
              "type": "dataframe",
              "variable_name": "combo_incident_data",
              "summary": "{\n  \"name\": \"combo_incident_data\",\n  \"rows\": 908,\n  \"fields\": [\n    {\n      \"column\": \"Started\",\n      \"properties\": {\n        \"dtype\": \"category\",\n        \"num_unique_values\": 67,\n        \"samples\": [\n          \"201604\",\n          \"201404\",\n          \"201311\"\n        ],\n        \"semantic_type\": \"\",\n        \"description\": \"\"\n      }\n    },\n    {\n      \"column\": \"County\",\n      \"properties\": {\n        \"dtype\": \"category\",\n        \"num_unique_values\": 56,\n        \"samples\": [\n          \"Tuolumne\",\n          \"Fresno\",\n          \"Sacramento\"\n        ],\n        \"semantic_type\": \"\",\n        \"description\": \"\"\n      }\n    },\n    {\n      \"column\": \"AcresBurned\",\n      \"properties\": {\n        \"dtype\": \"number\",\n        \"std\": 38768.602240097,\n        \"min\": 0.0,\n        \"max\": 460252.0,\n        \"num_unique_values\": 578,\n        \"samples\": [\n          2100.0,\n          66.0,\n          668.0\n        ],\n        \"semantic_type\": \"\",\n        \"description\": \"\"\n      }\n    },\n    {\n      \"column\": \"Injuries\",\n      \"properties\": {\n        \"dtype\": \"number\",\n        \"std\": 2.0311051060347642,\n        \"min\": 0.0,\n        \"max\": 32.0,\n        \"num_unique_values\": 17,\n        \"samples\": [\n          0.0,\n          14.0,\n          12.0\n        ],\n        \"semantic_type\": \"\",\n        \"description\": \"\"\n      }\n    },\n    {\n      \"column\": \"Fatalities\",\n      \"properties\": {\n        \"dtype\": \"number\",\n        \"std\": 3.1421520872288906,\n        \"min\": 0.0,\n        \"max\": 85.0,\n        \"num_unique_values\": 10,\n        \"samples\": [\n          85.0,\n          1.0,\n          9.0\n        ],\n        \"semantic_type\": \"\",\n        \"description\": \"\"\n      }\n    },\n    {\n      \"column\": \"StructuresDestroyed\",\n      \"properties\": {\n        \"dtype\": \"number\",\n        \"std\": 715.841517873264,\n        \"min\": 0.0,\n        \"max\": 18804.0,\n        \"num_unique_values\": 61,\n        \"samples\": [\n          0.0,\n          1.0,\n          1614.0\n        ],\n        \"semantic_type\": \"\",\n        \"description\": \"\"\n      }\n    },\n    {\n      \"column\": \"StructuresDamaged\",\n      \"properties\": {\n        \"dtype\": \"number\",\n        \"std\": 56.36672902768031,\n        \"min\": 0.0,\n        \"max\": 1272.0,\n        \"num_unique_values\": 28,\n        \"samples\": [\n          4.0,\n          12.0,\n          5.0\n        ],\n        \"semantic_type\": \"\",\n        \"description\": \"\"\n      }\n    },\n    {\n      \"column\": \"PropetyValue Damage\",\n      \"properties\": {\n        \"dtype\": \"number\",\n        \"std\": 312876156.76927876,\n        \"min\": 0.0,\n        \"max\": 6147779760.0,\n        \"num_unique_values\": 152,\n        \"samples\": [\n          1023000.0,\n          429450.0,\n          1275000.0\n        ],\n        \"semantic_type\": \"\",\n        \"description\": \"\"\n      }\n    }\n  ]\n}"
            }
          },
          "metadata": {},
          "execution_count": 22
        }
      ]
    },
    {
      "cell_type": "code",
      "source": [
        "import json"
      ],
      "metadata": {
        "id": "Z9-gt1fymjY9"
      },
      "execution_count": 23,
      "outputs": []
    },
    {
      "cell_type": "code",
      "source": [
        "with open('/content/drought_county.json', 'r') as file:\n",
        "    drought = json.load(file)"
      ],
      "metadata": {
        "id": "1GWaZJN4mntQ"
      },
      "execution_count": 24,
      "outputs": []
    },
    {
      "cell_type": "code",
      "source": [
        "weather_county = drought.keys()"
      ],
      "metadata": {
        "id": "w72VNSy1nKpC"
      },
      "execution_count": 25,
      "outputs": []
    },
    {
      "cell_type": "code",
      "source": [
        "weather_county"
      ],
      "metadata": {
        "colab": {
          "base_uri": "https://localhost:8080/"
        },
        "id": "JCuXZfYpnjUi",
        "outputId": "04d7b814-d7c0-499f-92c0-301785a7a8e8"
      },
      "execution_count": 26,
      "outputs": [
        {
          "output_type": "execute_result",
          "data": {
            "text/plain": [
              "dict_keys(['Alameda', 'Alpine', 'Amador', 'Butte', 'Calaveras', 'Colusa', 'Contra Costa', 'Del Norte', 'El Dorado', 'Fresno', 'Glenn', 'Humboldt', 'Imperial', 'Inyo', 'Kern', 'Kings', 'Lake', 'Lassen', 'Los Angeles', 'Madera', 'Marin', 'Mariposa', 'Mendocino', 'Merced', 'Modoc', 'Mono', 'Monterey', 'Napa', 'Nevada', 'Orange', 'Placer', 'Plumas', 'Riverside', 'Sacramento', 'San Benito', 'San Bernardino', 'San Diego', 'San Francisco', 'San Joaquin', 'San Luis Obispo', 'San Mateo', 'Santa Barbara', 'Santa Clara', 'Santa Cruz', 'Shasta', 'Sierra', 'Siskiyou', 'Solano', 'Sonoma', 'Stanislaus', 'Sutter', 'Tehama', 'Trinity', 'Tulare', 'Tuolumne', 'Ventura', 'Yolo', 'Yuba'])"
            ]
          },
          "metadata": {},
          "execution_count": 26
        }
      ]
    },
    {
      "cell_type": "code",
      "source": [
        "lookup_weather = {\n",
        "    \"Losangeles\": \"Los Angeles\",\n",
        "    \"Sandiego\" : \"San Diego\",\n",
        "    'Contracosta':'Contra Costa',\n",
        "    'Santabarbara': 'Santa Barbara',\n",
        "    'Eldorado':'El Dorado',\n",
        "    'Sanbernardino':'San Bernardino',\n",
        "    'Sanbenito': 'San Benito',\n",
        "    'Sanjoaquin': 'San Joaquin',\n",
        "    'Santaclara': 'Santa Clara',\n",
        "    'Sanmateo': 'San Mateo',\n",
        "    'Santacruz': 'Santa Cruz',\n",
        "    'Sanluisobispo': 'San Luis Obispo',\n",
        "    'Delnorte': 'Del Norte'\n",
        "}"
      ],
      "metadata": {
        "id": "Ujs9-o1MnAXu"
      },
      "execution_count": 27,
      "outputs": []
    },
    {
      "cell_type": "code",
      "source": [
        "tmp = []\n",
        "for i in range(len(combo_incident_data)):\n",
        "  date = combo_incident_data.iloc[i]['Started']\n",
        "  county = combo_incident_data.iloc[i]['County']\n",
        "  if county in weather_county:\n",
        "    tmp.append(drought[county][date]['value'])\n",
        "  else:\n",
        "    tmp.append(drought[lookup_weather[county]][date]['value'])\n",
        "combo_incident_data['Drought Index'] = tmp"
      ],
      "metadata": {
        "collapsed": true,
        "id": "p3E-insn7WQV"
      },
      "execution_count": 28,
      "outputs": []
    },
    {
      "cell_type": "code",
      "source": [],
      "metadata": {
        "id": "3aaM4pieme80"
      },
      "execution_count": 28,
      "outputs": []
    },
    {
      "cell_type": "code",
      "source": [
        "with open('/content/precipitation_county.json', 'r') as file:\n",
        "    precipitation = json.load(file)"
      ],
      "metadata": {
        "id": "N1r7jP3N8BsV"
      },
      "execution_count": 29,
      "outputs": []
    },
    {
      "cell_type": "code",
      "source": [
        "tmp = []\n",
        "for i in range(len(combo_incident_data)):\n",
        "  date = combo_incident_data.iloc[i]['Started']\n",
        "  county = combo_incident_data.iloc[i]['County']\n",
        "  if county in weather_county:\n",
        "    tmp.append(precipitation[county][date]['value'])\n",
        "  else:\n",
        "    tmp.append(precipitation[lookup_weather[county]][date]['value'])\n",
        "combo_incident_data['Precipitation'] = tmp"
      ],
      "metadata": {
        "id": "cj8pxjYF8hXS"
      },
      "execution_count": 30,
      "outputs": []
    },
    {
      "cell_type": "code",
      "source": [],
      "metadata": {
        "id": "gi8Ovsjf8LIg"
      },
      "execution_count": 30,
      "outputs": []
    },
    {
      "cell_type": "code",
      "source": [
        "with open('/content/average_temperature_county.json', 'r') as file:\n",
        "    temperature = json.load(file)"
      ],
      "metadata": {
        "id": "hFFQVdjV8eyk"
      },
      "execution_count": 31,
      "outputs": []
    },
    {
      "cell_type": "code",
      "source": [
        "tmp = []\n",
        "for i in range(len(combo_incident_data)):\n",
        "  date = combo_incident_data.iloc[i]['Started']\n",
        "  county = combo_incident_data.iloc[i]['County']\n",
        "  if county in weather_county:\n",
        "    tmp.append(temperature[county][date]['value'])\n",
        "  else:\n",
        "    tmp.append(temperature[lookup_weather[county]][date]['value'])\n",
        "combo_incident_data['Temperature'] = tmp"
      ],
      "metadata": {
        "id": "aYv7H67__qlR"
      },
      "execution_count": 32,
      "outputs": []
    },
    {
      "cell_type": "code",
      "source": [],
      "metadata": {
        "id": "mRClj0HLo_rO"
      },
      "execution_count": 32,
      "outputs": []
    },
    {
      "cell_type": "code",
      "source": [
        "with open('/content/heating_county.json', 'r') as file:\n",
        "    heating = json.load(file)"
      ],
      "metadata": {
        "id": "BX-RAUevo_w9"
      },
      "execution_count": 33,
      "outputs": []
    },
    {
      "cell_type": "code",
      "source": [
        "tmp = []\n",
        "for i in range(len(combo_incident_data)):\n",
        "  date = combo_incident_data.iloc[i]['Started']\n",
        "  county = combo_incident_data.iloc[i]['County']\n",
        "  if county in weather_county:\n",
        "    tmp.append(heating[county][date]['value'])\n",
        "  else:\n",
        "    tmp.append(heating[lookup_weather[county]][date]['value'])\n",
        "combo_incident_data['Heating Degree Days'] = tmp"
      ],
      "metadata": {
        "id": "TB0d8Agbo_zV"
      },
      "execution_count": 34,
      "outputs": []
    },
    {
      "cell_type": "code",
      "source": [],
      "metadata": {
        "id": "7FYpEqn3pRH6"
      },
      "execution_count": 34,
      "outputs": []
    },
    {
      "cell_type": "code",
      "source": [
        "with open('/content/cooling_county.json', 'r') as file:\n",
        "    cooling = json.load(file)"
      ],
      "metadata": {
        "id": "wrduJKBKpRNW"
      },
      "execution_count": 35,
      "outputs": []
    },
    {
      "cell_type": "code",
      "source": [
        "tmp = []\n",
        "for i in range(len(combo_incident_data)):\n",
        "  date = combo_incident_data.iloc[i]['Started']\n",
        "  county = combo_incident_data.iloc[i]['County']\n",
        "  if county in weather_county:\n",
        "    tmp.append(cooling[county][date]['value'])\n",
        "  else:\n",
        "    tmp.append(cooling[lookup_weather[county]][date]['value'])\n",
        "combo_incident_data['Cooling Degree Days'] = tmp"
      ],
      "metadata": {
        "id": "lJNLZTNuAx8k"
      },
      "execution_count": 36,
      "outputs": []
    },
    {
      "cell_type": "code",
      "source": [],
      "metadata": {
        "id": "p7SmP3yiBrLC"
      },
      "execution_count": 36,
      "outputs": []
    },
    {
      "cell_type": "code",
      "source": [],
      "metadata": {
        "id": "Z6raWrkKB3cb"
      },
      "execution_count": 36,
      "outputs": []
    },
    {
      "cell_type": "code",
      "source": [
        "check = set()\n",
        "for i in range(len(combo_incident_data)):\n",
        "  check.add(combo_incident_data.iloc[i]['Started'] + combo_incident_data.iloc[i]['County'])"
      ],
      "metadata": {
        "id": "PIufbDcFCDdp"
      },
      "execution_count": 37,
      "outputs": []
    },
    {
      "cell_type": "code",
      "source": [
        "len(check)"
      ],
      "metadata": {
        "colab": {
          "base_uri": "https://localhost:8080/"
        },
        "id": "rIXBQG8MCNWd",
        "outputId": "d41c2d68-3c51-4ce3-ff7b-19da2dc7caea"
      },
      "execution_count": 38,
      "outputs": [
        {
          "output_type": "execute_result",
          "data": {
            "text/plain": [
              "908"
            ]
          },
          "metadata": {},
          "execution_count": 38
        }
      ]
    },
    {
      "cell_type": "code",
      "source": [
        "len(combo_incident_data)"
      ],
      "metadata": {
        "colab": {
          "base_uri": "https://localhost:8080/"
        },
        "id": "u_dxfEs-CPhF",
        "outputId": "5585dd1c-9d4f-4d73-ba46-2d8412fc661e"
      },
      "execution_count": 39,
      "outputs": [
        {
          "output_type": "execute_result",
          "data": {
            "text/plain": [
              "908"
            ]
          },
          "metadata": {},
          "execution_count": 39
        }
      ]
    },
    {
      "cell_type": "code",
      "source": [
        "combo_incident_data.to_csv('History_County_Weather.csv', index=False)"
      ],
      "metadata": {
        "id": "whwCTZ6DCRpM"
      },
      "execution_count": 40,
      "outputs": []
    }
  ]
}